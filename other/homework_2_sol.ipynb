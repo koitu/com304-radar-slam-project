{
 "cells": [
  {
   "cell_type": "markdown",
   "metadata": {},
   "source": [
    "<h1> Evaluation (Graded Assignment) *Solution* </h1>\n",
    "Now that you have been introduced to different methods of plotting, processing and loading the raw data data. Please complete this evaluation on extending the 1D beamforming and 1D Matched Filter into 2D processing. We have provided data where we have taken wireless images of various objects and your goal is to figure out what we have imaged. Different students will be assigned different sets of data, which will be determiend at the time of evaluation. At the bottom of the notebook are a few questions to answer.\n",
    "\n",
    "Your deliverables are:\n",
    "1. Add the implementation of 2D beamforming\n",
    "2. Add the implementation of 2D matched filter algorithm\n",
    "3. Answer the 3 questions at the bottom of the notebook\n",
    "\n",
    "(HINT: Use as a skeleton the code from exercise_2.ipynb)"
   ]
  },
  {
   "cell_type": "code",
   "execution_count": 2,
   "metadata": {},
   "outputs": [
    {
     "name": "stdout",
     "output_type": "stream",
     "text": [
      "Intel MKL WARNING: Support of Intel(R) Streaming SIMD Extensions 4.2 (Intel(R) SSE4.2) enabled only processors has been deprecated. Intel oneAPI Math Kernel Library 2025.0 will require Intel(R) Advanced Vector Extensions (Intel(R) AVX) instructions.\n",
      "Intel MKL WARNING: Support of Intel(R) Streaming SIMD Extensions 4.2 (Intel(R) SSE4.2) enabled only processors has been deprecated. Intel oneAPI Math Kernel Library 2025.0 will require Intel(R) Advanced Vector Extensions (Intel(R) AVX) instructions.\n"
     ]
    }
   ],
   "source": [
    "\n",
    "import numpy as np\n",
    "import matplotlib.pyplot as plt\n",
    "import os\n",
    "import scipy\n",
    "import scipy.io as sio\n",
    "import time"
   ]
  },
  {
   "cell_type": "code",
   "execution_count": 226,
   "metadata": {},
   "outputs": [],
   "source": [
    "# TODO: Put the *path* to the project folder\n",
    "home_dir = r\"/Users/shanbhag/Documents/School/comm-proj-radars\"\n",
    "\n",
    "# loading data that is given\n",
    "filename = r\"data_001\"\n",
    "data_dir = r\"given_data\"\n",
    "mat_data = sio.loadmat(os.path.join(home_dir,data_dir,filename + '.mat'))\n",
    "raw_data = mat_data['adcData']\n",
    "num_x_stp, num_z_stp, num_tx, num_rx, adc_samples = raw_data.shape"
   ]
  },
  {
   "cell_type": "code",
   "execution_count": 227,
   "metadata": {},
   "outputs": [],
   "source": [
    "# define the antenna spacing\n",
    "\n",
    "lm = 3e8/77e9 # define lambda for the antenna spacing\n",
    "stp_size = 300*lm/4/369 # step size in the z (vertical) direction\n",
    "rx_pos = np.reshape(np.arange(1,5,dtype=float),(-1,1)) * -lm / 2 # receiver positions \n",
    "x_pos = (np.reshape(np.arange(0,80,dtype=float),(-1,1)) * lm).T # x (horizontal) positions of the radar\n",
    "x_ant_pos = np.reshape(np.squeeze(np.array([rx_pos + x_pos[0,i] for i in range(x_pos.shape[1])])),(-1,1)) # complete position of every receiver antenna\n",
    "\n",
    "# make it 0 indexed\n",
    "rx_pos = rx_pos - rx_pos[0] \n",
    "x_pos = x_pos - x_pos[0,0]\n",
    "x_ant_pos = x_ant_pos - x_ant_pos[0]\n",
    "\n",
    "# z (vertical) positions defined\n",
    "z_pos = (np.reshape(np.arange(1,num_z_stp+1,dtype=float),(-1,1)) * stp_size).T\n",
    "z_pos = z_pos - z_pos[0,0]\n"
   ]
  },
  {
   "cell_type": "code",
   "execution_count": 228,
   "metadata": {},
   "outputs": [],
   "source": [
    "# reshape raw data and process beat frequency\n",
    "X = raw_data\n",
    "X = np.reshape(np.transpose(np.squeeze(X),(0,2,1,3)),(num_x_stp * num_rx, num_z_stp, adc_samples)) \n",
    "beat_freq = np.squeeze(scipy.fft.fft(X, axis=-1))\n",
    "beat_freq = np.reshape(beat_freq,(-1,adc_samples))\n",
    "X = np.reshape(X,(-1,adc_samples))"
   ]
  },
  {
   "cell_type": "markdown",
   "metadata": {},
   "source": [
    "<h5> 1. Beamforming </h5>"
   ]
  },
  {
   "cell_type": "code",
   "execution_count": 257,
   "metadata": {},
   "outputs": [],
   "source": [
    "################# Change the values based on how much of the azimuth angles you want to see and the resolution ##################\n",
    "# Define field of view in degrees that you want to process in theta \n",
    "def beamform_2d(beat_freq_data, theta_s, theta_e, theta_res, phi_s, phi_e, phi_res, x_idx, z_idx):\n",
    "    \"\"\"\n",
    "    Performs 2D beamforming along the azimuth (horizontal) dimension, this results in a bird eye view image.\n",
    "\n",
    "    Paramters:\n",
    "    - beat_freq_data: beat data AKA the range FFT (size: num TX * num RX * horizontal steps * vertical steps, num ADC samples)\n",
    "    - theta_s: first azimuth angle that you want to start computing \n",
    "    - theta_e: last azimuth angle that you want to compute \n",
    "    - theta_res: resolution of the azimuth angles you want to compute\n",
    "    - phi_s: first elevation angle that you want to start computing \n",
    "    - phi_e: last elevation angle that you want to compute \n",
    "    - phi_res: resolution of the elevation angles you want to compute\n",
    "    - x_idx: x index of antenna locations\n",
    "    - z_idx: z index of antenna locations\n",
    "\n",
    "    Returns:\n",
    "    - sph_pwr: beamformed result\n",
    "    \"\"\"\n",
    "    idxs = np.arange(100,140,1) \n",
    "    adc_samples = len(idxs)\n",
    "    # Convert everything to Radians \n",
    "    theta_s_r = theta_s * (np.pi/180)\n",
    "    theta_e_r = theta_e * (np.pi/180)\n",
    "    theta_res*= (np.pi/180)\n",
    "    theta_rad_lim = [theta_s_r,theta_e_r]\n",
    "    phi_s_r = phi_s * (np.pi/180)\n",
    "    phi_e_r = phi_e * (np.pi/180)\n",
    "    phi_res *= (np.pi/180)\n",
    "    phi_rad_lim = [phi_s_r,phi_e_r]\n",
    "\n",
    "    # Generate arrays for theta \n",
    "    theta = np.arange(theta_rad_lim[0], theta_rad_lim[1], theta_res)\n",
    "    phi = np.arange(phi_rad_lim[0], phi_rad_lim[1], phi_res)\n",
    "    N_theta = len(theta)\n",
    "    N_phi = len(phi)\n",
    "\n",
    "    # Initialize arrays for spherical power\n",
    "    sph_pwr = np.zeros((N_theta, N_phi, adc_samples), dtype=complex)\n",
    "\n",
    "    print(\"Running this many iterations: %d \" % (N_theta*N_phi))\n",
    "    i = 0\n",
    "    ######################## BF Calculations ###########################\n",
    "    for kt in range(N_theta):\n",
    "        for kp in range(N_phi):\n",
    "            start_time = time.time()\n",
    "            cos_theta = np.cos(theta[kt])\n",
    "            sin_theta = np.sin(theta[kt])\n",
    "            cos_phi = np.cos(phi[kp])\n",
    "            sin_phi = np.sin(phi[kp])\n",
    "    \n",
    "            cost_sinp = cos_theta * sin_phi\n",
    "            sint_cosp = sin_theta * cos_phi\n",
    "\n",
    "            Vec = np.exp(-1j*(2*np.pi*(z_idx*cost_sinp+ x_idx*sint_cosp)/lm)) # this is right for sure\n",
    "            VecRFI = np.reshape(np.repeat(Vec[:, :, np.newaxis], len(idxs), axis=2),(-1,len(idxs)))\n",
    "            sph_pwr[kt, kp, :] = np.squeeze(np.sum(np.multiply(beat_freq_data[:, idxs], (VecRFI)), axis=(0)))\n",
    "            print(\"Processed angle (%.2f,%.2f) and took %.2f sec, %d/%d\" % (theta[kt]*180/np.pi,phi[kp]*180/np.pi, abs(start_time - time.time()), i, N_theta*N_phi), end='\\r')\n",
    "            i += 1\n",
    "    return sph_pwr"
   ]
  },
  {
   "cell_type": "code",
   "execution_count": 258,
   "metadata": {},
   "outputs": [
    {
     "name": "stdout",
     "output_type": "stream",
     "text": [
      "Running this many iterations: 1400 \n",
      "Processed angle (109.00,119.00) and took 0.07 sec, 1399/1400\r"
     ]
    }
   ],
   "source": [
    "# define the azimuth angles (horizontal FOV) that we want to look at \n",
    "theta_s, theta_e = 75, 110\n",
    "theta_res = 1.\n",
    "phi_s, phi_e = 80, 120\n",
    "phi_res = 1.\n",
    "bf_output1 = beamform_2d(beat_freq, theta_s,theta_e,theta_res,phi_s,phi_e,phi_res,x_ant_pos,z_pos)"
   ]
  },
  {
   "cell_type": "code",
   "execution_count": 260,
   "metadata": {},
   "outputs": [
    {
     "data": {
      "image/png": "[encoded data removed]",
      "text/plain": [
       "<Figure size 1500x1500 with 2 Axes>"
      ]
     },
     "metadata": {},
     "output_type": "display_data"
    }
   ],
   "source": [
    "fig, (ax0,ax1) = plt.subplots(1,2,figsize=(15, 15))\n",
    "\n",
    "to_plot = np.sum(bf_output1,axis=-1)\n",
    "to_plot = to_plot/np.max(np.reshape(to_plot,(1,-1))) \n",
    "to_plot = to_plot[:,::-1]**2\n",
    "ax0.imshow(abs((to_plot).T), cmap = 'jet',  vmin=0, vmax=0.1) # this is giving the y axis in meters, and x axis in angles \n",
    "ax0.title.set_text('Front View ')\n",
    "to_plot = np.sum(bf_output1,axis=1)\n",
    "to_plot = to_plot/np.max(np.reshape(to_plot,(1,-1))) \n",
    "to_plot = to_plot[:,::-1]**2\n",
    "ax1.imshow(abs((to_plot).T), cmap = 'jet',  vmin=0, vmax=0.2) # this is giving the y axis in meters, and x axis in angles \n",
    "ax1.title.set_text('Bird Eye View (Top View)')"
   ]
  },
  {
   "cell_type": "markdown",
   "metadata": {},
   "source": [
    "<h5> 2. Matched Filter </h5>"
   ]
  },
  {
   "cell_type": "code",
   "execution_count": 217,
   "metadata": {},
   "outputs": [],
   "source": [
    "######## 1D Imaging in Cartesian #############\n",
    "def matched_filter_2d(raw_data_2d, num_x_cells, num_z_cells, x_radar_tx, x_radar_rx, z_radar_tx, z_radar_rx, cell_y):\n",
    "    \"\"\"\n",
    "    Computes the 1D matched filter result for raw data, this is done along the X, Y dimensions (results in a birds eye view image).\n",
    "\n",
    "    Paramters:\n",
    "    - raw_data_2d: raw ADC data (size: num Tx * num Rx * horizontal steps * vertical steps, num ADC samples)\n",
    "    - num_x_cells: discrete locations in X (horizontal) that you want to compute the power of\n",
    "    - num_z_cells: discrete locations in Z (vertical) that you want to compute the power of\n",
    "    - x_radar_tx: horizontal positions of the transmitters \n",
    "    - x_radar_rx: horizontal positions of the receivers \n",
    "    - z_radar_tx: vertical positions of the transmitters  \n",
    "    - z_radar_rx: vertical positions of the receivers \n",
    "    - cell_y: depth slice we want to calculate\n",
    "\n",
    "    Returns:\n",
    "    - MF_output: matched filter output\n",
    "    \"\"\"\n",
    "    c = 2.9979\n",
    "    fc_start =  773.704\n",
    "    chirpSlope = 70.295e12\n",
    "    adcSampleRate = 10e6\n",
    "    As_sci = (chirpSlope/1e8)\n",
    "\n",
    "    # to speed up processing just look at this subset of samples\n",
    "    adc_sampless = np.arange(100,140)\n",
    "    X_ = raw_data_2d[:,adc_sampless]\n",
    "    adc_samples_mf = X_.shape[1]\n",
    "\n",
    "    MF_output = np.zeros((len(num_x_cells),len(num_z_cells)),dtype=complex)\n",
    "    index = 0\n",
    "    for i,cell_x in enumerate(num_x_cells):\n",
    "        for j,cell_z in enumerate(num_z_cells):\n",
    "                start_time = time.time()\n",
    "\n",
    "                # round trip distance of signal to (cell_x, cell_y, cell_z)\n",
    "                cell_dist = np.sqrt((x_radar_tx - cell_x)**2 + (cell_y)**2 + (z_radar_tx - cell_z)**2) + np.sqrt((cell_x - x_radar_rx)**2 + (cell_y)**2 + (z_radar_rx - cell_z)**2) # size is (num_z_stp,1)\n",
    "\n",
    "                cell_dist = np.reshape(cell_dist,(-1,1)) + 0.15 # account for range bias\n",
    "                temp_tau = (cell_dist)/c\n",
    "                \n",
    "                temp_sig_phase = 2.0*np.pi*fc_start*temp_tau\n",
    "                total_phase = np.repeat(temp_sig_phase,adc_samples_mf,axis=1) + 2.0 * np.pi * As_sci * (adc_sampless.T / adcSampleRate) * temp_tau\n",
    "                temp_real = np.cos(total_phase)\n",
    "                temp_imag = -np.sin(total_phase)\n",
    "                MF_output[i,j] = MF_output[i,j] + np.sum((X_ *  (temp_real + temp_imag*1j)),axis=(0,1))\n",
    "                            \n",
    "                print(\"Processed cell (%.2f,%.2f,%.2f), which is (%d/ %d) and took %.2f sec)    \" % (cell_x,cell_y,cell_z,index,len(num_x_cells)*len(num_z_cells),abs(start_time - time.time())), end='\\r')\n",
    "                index += 1\n",
    "    return MF_output "
   ]
  },
  {
   "cell_type": "code",
   "execution_count": 219,
   "metadata": {},
   "outputs": [
    {
     "name": "stdout",
     "output_type": "stream",
     "text": [
      "Processed cell (0.52,4.30,0.19), which is (727/ 728) and took 0.06 sec)      \r"
     ]
    }
   ],
   "source": [
    "num_x_cells = np.arange(-0.15,0.53,0.025)\n",
    "num_z_cells = np.arange(-0.44,0.2,0.025)\n",
    "cell_y = 4.3 \n",
    "\n",
    "# transmitters x position is one every lambda (repeat by four to match size of x_radar_rx) and shift by the physical offset on the board\n",
    "x_radar_tx = np.reshape(np.repeat(x_pos,4),(-1,1)) - 0.005 - 3 * lm / 2 \n",
    "x_radar_rx = x_ant_pos \n",
    "z_radar_tx = z_pos\n",
    "z_radar_rx = z_pos \n",
    "\n",
    "MF_output = matched_filter_2d(X, num_x_cells, num_z_cells, x_radar_tx, x_radar_rx, z_radar_tx, z_radar_rx, cell_y)"
   ]
  },
  {
   "cell_type": "code",
   "execution_count": 220,
   "metadata": {},
   "outputs": [
    {
     "data": {
      "text/plain": [
       "<matplotlib.image.AxesImage at 0x12f3d3550>"
      ]
     },
     "execution_count": 220,
     "metadata": {},
     "output_type": "execute_result"
    },
    {
     "data": {
      "image/png": "[encoded data removed]",
      "text/plain": [
       "<Figure size 640x480 with 1 Axes>"
      ]
     },
     "metadata": {},
     "output_type": "display_data"
    }
   ],
   "source": [
    "to_plot = MF_output\n",
    "to_plot = to_plot/np.max(np.reshape(to_plot,(1,-1)))\n",
    "to_plot = to_plot[:,::-1]**2 # reverse direction so that we are right side up\n",
    "plt.imshow(abs((to_plot).T), cmap = 'jet',  vmin=0, vmax=0.3) "
   ]
  },
  {
   "cell_type": "markdown",
   "metadata": {},
   "source": [
    "<h5> Question 1: Look through the possible objects that have been imaged, and match your output to one of these objects. Write the object below: </h5>"
   ]
  },
  {
   "cell_type": "markdown",
   "metadata": {},
   "source": [
    "Depends on your data."
   ]
  },
  {
   "cell_type": "markdown",
   "metadata": {},
   "source": [
    "<h5>Question 2: Which image looks more realistic, beamforming or matched filter?  </h5>"
   ]
  },
  {
   "cell_type": "markdown",
   "metadata": {},
   "source": [
    "Matched Filter."
   ]
  },
  {
   "cell_type": "markdown",
   "metadata": {},
   "source": [
    "<h5> Question 3: Explain the reason for one processing algorithm to produce better images than the other. </h5>"
   ]
  },
  {
   "cell_type": "markdown",
   "metadata": {},
   "source": [
    "Beamforming makes an assumption on the incoming signal. Essentially it assumes that our reflector is far enough away that the incoming rays to each antenna are parallel to each other. You can only make this assumption when the distance from the antenna array to the reflectors are much greater than the wavelength/spacing of the antennas. This assumption means that we are assuming the transmitter and receiver antennas are at the same location *and* that the adjacent antennas are seeing parallel rays. This is not going to be the most accurate in estimating the extra distance traveled by the signal, and this is why the output seen by the beamforming algorithm is not very good looking, especially for the data given, as they are in the *nearfield* (aka our parallel ray assumption fails). \n",
    "\n",
    "Matched filter, on the other hand, calculates the exact signal we expect to receive and does not make an assumption on the incoming signal. In other words, it calculates the round trip distance from each transmitter to a voxel in space and then back to the receiver, accounting for each of their exact locations. It simulates the expected signal, and then it correlates this expected signal with what we received, and if they match (hense matched filter) then we will see a peak (in terms of heatmap this means a stronger power). However, this is computationally expensive as it requires calculating this for every singal voxel in space. "
   ]
  }
 ],
 "metadata": {
  "kernelspec": {
   "display_name": "Python 3 (ipykernel)",
   "language": "python",
   "name": "python3"
  },
  "language_info": {
   "codemirror_mode": {
    "name": "ipython",
    "version": 3
   },
   "file_extension": ".py",
   "mimetype": "text/x-python",
   "name": "python",
   "nbconvert_exporter": "python",
   "pygments_lexer": "ipython3",
   "version": "3.11.5"
  }
 },
 "nbformat": 4,
 "nbformat_minor": 4
}
