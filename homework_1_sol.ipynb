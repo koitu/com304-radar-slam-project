{
 "cells": [
  {
   "cell_type": "markdown",
   "metadata": {},
   "source": [
    "<h1> Exercises 1: Basic Radar Processing </h1>\n",
    "In this notebook we have a few exercises and examples of code such that you can run it, play around with it to better understand how radar signal processing is performed in Python.\n",
    "\n",
    "First we need to load any libraries that might be used."
   ]
  },
  {
   "cell_type": "code",
   "execution_count": 1,
   "metadata": {},
   "outputs": [],
   "source": [
    "\n",
    "import numpy as np\n",
    "import matplotlib.pyplot as plt\n",
    "import os\n",
    "import scipy\n",
    "import scipy.io as sio\n",
    "import processing.save_adc_data as sd\n",
    "import processing.utility as utility"
   ]
  },
  {
   "cell_type": "markdown",
   "metadata": {},
   "source": [
    "<h5> 1. Setting up Paths and Loading Data: </h5>\n",
    "To load your data, please make sure the file paths are all correct. The variables/functions are setup expecting a specific way of your project directory organization, however it is up to you how you want to organize it. Step through these variables to make sure you are loading what is expected. \n",
    "\n",
    "In the end, it is up to you how you want to link the paths. We've set it up in a way that should work if you follow the path conventions however you are welcome to look through all the functions called in order to determine how you want to input path names. Since the size of the data depends on your specific chirp paramters (such as number of frames, number of transmitters used, number of receivers used, number of chirp loops used, number of ADC samples used), we will leave this code for you understand whether you need to make changes for your future project.\n",
    "\n",
    "The function utility.read_radar_param() will take the Lua script you give it and extract all the chirp parameters that are declared at the top of the file."
   ]
  },
  {
   "cell_type": "code",
   "execution_count": 2,
   "metadata": {},
   "outputs": [],
   "source": [
    "# TODO: Put the *name* of your .bin file here (excluding the .bin)\n",
    "filename = r\"1\"\n",
    "# TODO: Put the *path* to the project folder\n",
    "home_dir = r\"/Users/shanbhag/Documents/School/comm-proj-radars\"\n",
    "# TODO: Put the path (relative to home_dir) of the captured data folder\n",
    "capture_data_dir = r\"data\"\n",
    "# TODO: Put the path (relative to home_dir) and name of the JSON files (exlude the .setup.json and .mmwave.json)\n",
    "json_filename = r\"scripts/chirp1\"\n",
    "path_to_rawdata = os.path.join(home_dir,capture_data_dir,\"rdc_\" + filename + '.mat')\n",
    "bin_data = sio.loadmat(os.path.join(home_dir,capture_data_dir,\"rdc_\" + filename + '.mat'))\n",
    "config_lua_script = r'scripts/1843_config.lua' \n",
    "\n",
    "# this function reads the parameters from your lua config file (look at this function to see how it expects your config file to be formatted)\n",
    "num_tx, num_rx, adc_samples, periodicity, num_frames, chirp_loops, _, _, _ = utility.read_radar_params(os.path.join(home_dir,config_lua_script))\n",
    "######### only edit here if you want to change the chirp paramters!!!! #############\n",
    "tx_en = '0x7' # HEX enable (1 for on, 0 for off)\n",
    "rx_en = '0xF' # HEX enable (1 for on, 0 for off)\n",
    "\n",
    "args = [num_tx, num_rx, adc_samples, chirp_loops, tx_en, rx_en]"
   ]
  },
  {
   "cell_type": "markdown",
   "metadata": {},
   "source": [
    "Loading the data requires loading the *.bin file you measured using mmWave Studio and converting it to a *.mat file. You only have to do this conversion once if the data has not changed in that file. All this does is convert the raw data (which will be a binary file with the data separated by real and imaginary parts and interleaved based on the transmitter/reciever pairs) to a multidimensional array so that we can interpret it. This array will be complex valued of the size: (Number of Frames x Number of Transmitter Chirps x Number of Receivers x Number of ADC Samples). This is all done in the function sd.save_adc_data().\n",
    "\n",
    "Then we load the *.mat file, using sio.loadmat() and extract the raw ADC data."
   ]
  },
  {
   "cell_type": "code",
   "execution_count": 3,
   "metadata": {},
   "outputs": [
    {
     "name": "stdout",
     "output_type": "stream",
     "text": [
      "You captured 20 frames, for 3 TX, 4 Rx, and 512 adc samples\n"
     ]
    }
   ],
   "source": [
    "############################# Reformat the Data #############################\n",
    "if not os.path.exists(os.path.join(home_dir,capture_data_dir,\"rdc_\" + filename + '.mat')):\n",
    "    sd.save_adc_data(filename, home_dir, capture_data_dir, json_filename)\n",
    "\n",
    "################################# load data #################################\n",
    "bin_data = sio.loadmat(os.path.join(home_dir,capture_data_dir,\"rdc_\" + filename + '.mat'))\n",
    "raw_data = np.array(bin_data['data_raw'])\n",
    "\n",
    "print(\"You captured %d frames, for %d TX, %d Rx, and %d adc samples\" % raw_data.shape)"
   ]
  },
  {
   "cell_type": "markdown",
   "metadata": {},
   "source": [
    "<h5> 2. Range FFT: </h5> \n",
    "\n",
    "There is some simple signal processing we can do to have a coarse understanding of what we've received. Below, is code for processing and plotting the range FFT as you have seen in the lectures, AKA we take the FFT of the raw signal (along the dimension of the ADC samples), which gives you the frequency difference between the received signals. Based on this you should also be able to locate the strongest reflector and recover the distance of that reflector. "
   ]
  },
  {
   "cell_type": "code",
   "execution_count": 4,
   "metadata": {},
   "outputs": [
    {
     "data": {
      "text/plain": [
       "[<matplotlib.lines.Line2D at 0x7fce888e4130>]"
      ]
     },
     "execution_count": 4,
     "metadata": {},
     "output_type": "execute_result"
    },
    {
     "data": {
      "image/png": "[encoded data removed]",
      "text/plain": [
       "<Figure size 640x480 with 1 Axes>"
      ]
     },
     "metadata": {},
     "output_type": "display_data"
    }
   ],
   "source": [
    "############################### process data! ################################\n",
    "# Range FFT\n",
    "rfft = scipy.fft.fft(raw_data, axis=3)\n",
    "plt.plot(abs(np.squeeze(np.sum(rfft[:,:,:,0:50],axis=(0,2,1)))))"
   ]
  },
  {
   "cell_type": "markdown",
   "metadata": {},
   "source": [
    "Now find the distance of the maximum reflector that is seen in front of the radar."
   ]
  },
  {
   "cell_type": "code",
   "execution_count": 9,
   "metadata": {},
   "outputs": [],
   "source": [
    "######## Find the distance of the maximum reflector in front of the radar. #############\n",
    "# TODO: add your code here\n",
    "def max_reflector(rfft):\n",
    "    # put your implementation here\n",
    "    return"
   ]
  },
  {
   "cell_type": "code",
   "execution_count": 10,
   "metadata": {},
   "outputs": [],
   "source": [
    "max_reflector(rfft)"
   ]
  },
  {
   "cell_type": "markdown",
   "metadata": {},
   "source": [
    "<h5> 3. Beamforming </h5>\n",
    "\n",
    "To help understand some of the ways to more accurately visualize radar data, we have provided some raw ADC data, processing code and some examples of Python plotting code to play around with. First we will go through the process of beamforming which you have seen in the lectures, and show the bird eye view (BEV) heatmaps we can recover from this.\n",
    "For beamforming, it requires knowing a few details about the antenna array that captured the data. We will describe it in more detail later in this notebook.\n",
    "For the rest of this section, the horizontal dimension will be defined as *x*, vertical as *z*, and depth will be defined by *y*. \n",
    "\n",
    "First, we load the data provided.\n"
   ]
  },
  {
   "cell_type": "code",
   "execution_count": 5,
   "metadata": {},
   "outputs": [],
   "source": [
    "# TODO: Put the *path* to the project folder\n",
    "home_dir = r\"/Users/shanbhag/Documents/School/comm-proj-radars\"\n",
    "\n",
    "# loading data that is given\n",
    "filename = r\"data_001\"\n",
    "data_dir = r\"given_data\"\n",
    "mat_data = sio.loadmat(os.path.join(home_dir,data_dir,filename + '.mat'))\n",
    "raw_data = mat_data['adcData']\n",
    "num_x_stp, num_z_stp, num_tx, num_rx, adc_samples = raw_data.shape\n",
    "X = raw_data[num_x_stp//2,num_z_stp//2,:,:,:]"
   ]
  },
  {
   "cell_type": "markdown",
   "metadata": {},
   "source": [
    "In this exercise, we are only using 4 receivers and the first transmitter. For a better understanding of the layout of the physical antennas, you can check out the documentation on the AWR1843BOOST Evaluation Board. \n",
    "The four receivers have a spacing of $\\lambda$/2 apart. \n",
    "We assume that the origin (aka 0,0,0) is the first antenna, and looking from the point of view of the radar, positive-x will be to the right, positive-y will be in front of the radar, and positive-z will be up. \n",
    "Because of the orientation the radar was placed and the layout of where the first antenna is, each of the subsequent antennas will actually be placed at -$\\lambda$/2. \n",
    "\n",
    "Make sure you understand the orientation of the radar and antennas as you will see a much larger array in the next exercise. "
   ]
  },
  {
   "cell_type": "code",
   "execution_count": 6,
   "metadata": {},
   "outputs": [],
   "source": [
    "# define the antenna spacing\n",
    "lm = 3e8/77e9 # define lambda for the antenna spacing\n",
    "rx_pos = np.reshape(np.arange(1,5,dtype=float),(-1,1)) * -lm / 2\n",
    "rx_pos = rx_pos - rx_pos[0]\n",
    "ant_pos = rx_pos"
   ]
  },
  {
   "cell_type": "markdown",
   "metadata": {},
   "source": [
    "For the beamforming algorithm, we first perform the range FFT along the ADC samples."
   ]
  },
  {
   "cell_type": "code",
   "execution_count": 7,
   "metadata": {},
   "outputs": [],
   "source": [
    "# just look at one vertical dimension since we are not using elevation\n",
    "beat_freq = scipy.fft.fft(X, axis=-1)\n",
    "beat_freq = np.reshape(beat_freq,(-1,adc_samples))\n"
   ]
  },
  {
   "cell_type": "markdown",
   "metadata": {},
   "source": [
    "Here we define the function for beamforming in one dimension. AKA we are using a one dimensional array and only beamforming along the azimuth (horizontal) direction. So the output we see will be a 2D heatmap where one dimension is the range or depth (which we got from the range FFT), and the other dimension is the azimuth angles (which we get from beamforming).\n",
    "\n",
    "Recall that in beamforming, we are compensating for the additional distance traveled by a signal when it arrives at the antennas at an angle so that the singals will sum up constructively. Thus, we simply multiply each antenna's signal by that offset in the phase (this array is sometimes called the beam steering vector) and sum the signals. By iterating over a set of angles, we can calculate the power coming from each direction."
   ]
  },
  {
   "cell_type": "code",
   "execution_count": 8,
   "metadata": {},
   "outputs": [],
   "source": [
    "# TODO: calculate the beamforming vector used to steer the beams\n",
    "def steering_vec(theta,locs):\n",
    "    '''\n",
    "    Calculates the steering vector based on the angle given (theta) and the antenna array locations. \n",
    "    \n",
    "    Paramters: \n",
    "    - theta: angle of arrival that we are calculating the steering vector for (radians)\n",
    "    - locs: antenna locations\n",
    "\n",
    "    Returns:\n",
    "    - bf_vector: steering vector\n",
    "    '''\n",
    "\n",
    "    cos_theta = np.cos(theta) # angle that the signal is coming from \n",
    "    bf_vector = np.exp(1j*(2*np.pi*(locs*cos_theta)/lm))\n",
    "\n",
    "    return bf_vector"
   ]
  },
  {
   "cell_type": "markdown",
   "metadata": {},
   "source": [
    "Because of array dimensions and having to stick to Python function formalities, we need to make sure the size of array holding the phase offsets is the correct size to do element-wise multiplication."
   ]
  },
  {
   "cell_type": "code",
   "execution_count": 9,
   "metadata": {},
   "outputs": [],
   "source": [
    "################# Change the values based on how much of the azimuth angles you want to see and the resolution ##################\n",
    "# Define field of view in degrees that you want to process in theta \n",
    "def beamform_1d(beat_freq_data, theta_s, theta_e, theta_res, locs):\n",
    "    \"\"\"\n",
    "    Performs 1D beamforming along the azimuth (horizontal) dimension, this results in a bird eye view image.\n",
    "\n",
    "    Paramters:\n",
    "    - beat_freq_data: beat data AKA the range FFT (size: num TX * num RX, num ADC samples)\n",
    "    - theta_s: first angle that you want to start computing \n",
    "    - theta_e: last angle that you want to compute \n",
    "    - theta_res: resolution of the angles you want to compute\n",
    "    - locs: antenna locations\n",
    "\n",
    "    Returns:\n",
    "    - sph_pwr: beamformed result\n",
    "    - theta: the array of the angles computed\n",
    "    \"\"\"\n",
    "    # Convert everything to Radians \n",
    "    theta_s_r = theta_s * (np.pi/180)\n",
    "    theta_e_r = theta_e * (np.pi/180)\n",
    "    theta_res*= (np.pi/180)\n",
    "    theta_rad_lim = [theta_s_r,theta_e_r]\n",
    "\n",
    "    # Generate arrays for theta \n",
    "    theta = np.arange(theta_rad_lim[0], theta_rad_lim[1], theta_res)\n",
    "    N_theta = len(theta)\n",
    "\n",
    "    # Initialize arrays for spherical power\n",
    "    sph_pwr = np.zeros((N_theta, adc_samples), dtype=complex)\n",
    "\n",
    "    print(\"Running this many iterations: %d \" % (N_theta))\n",
    "\n",
    "    ######################## BF Calculations ###########################3\n",
    "    for kt in range(N_theta):\n",
    "        Vec = steering_vec(theta[kt],locs)\n",
    "        VecRFI = np.squeeze(np.repeat(Vec[:, np.newaxis], adc_samples, axis=1)) # make sure the size of the steering vector is the same as the data\n",
    "        sph_pwr[kt, :] = np.squeeze(np.sum(np.multiply(np.squeeze(beat_freq_data),VecRFI), axis=(0)))        \n",
    "        print(\"Processed angle (%.2f)\" % (theta[kt]*180/np.pi), end='\\r')\n",
    "    return sph_pwr, theta"
   ]
  },
  {
   "cell_type": "markdown",
   "metadata": {},
   "source": [
    "Once we've performed beamforming on this 1D array, we can plot the corresponding images. In this example below, we have plotted the birds eye view for you. You can play around with the normalization to see how different thresholds impact the final image and what reflectors you can see. "
   ]
  },
  {
   "cell_type": "code",
   "execution_count": 10,
   "metadata": {},
   "outputs": [
    {
     "name": "stdout",
     "output_type": "stream",
     "text": [
      "(4, 512)\n",
      "Running this many iterations: 180 \n",
      "Processed angle (179.00)\r"
     ]
    }
   ],
   "source": [
    "# define the azimuth angles (horizontal FOV) that we want to look at \n",
    "theta_s, theta_e = 0, 180\n",
    "theta_res = 1\n",
    "print(beat_freq.shape)\n",
    "bf_output, theta = beamform_1d(beat_freq, theta_s,theta_e,theta_res, ant_pos)"
   ]
  },
  {
   "cell_type": "markdown",
   "metadata": {},
   "source": [
    "We can plot the output here. Here, we will make sure we are labeling the x-axis with the angle in radians (0 is the origin, +$\\pi$ is the right most view point and -$\\pi$ is the left most view point). The y-axis is labeled in meters. You can see that the output is not very good, basically it is hard to tell exactly where the reflector is, and this is because the antenna array used in this case is extremely small, giving us very low resolution. "
   ]
  },
  {
   "cell_type": "code",
   "execution_count": 11,
   "metadata": {},
   "outputs": [
    {
     "data": {
      "text/plain": [
       "<matplotlib.image.AxesImage at 0x7fce7857b6d0>"
      ]
     },
     "execution_count": 11,
     "metadata": {},
     "output_type": "execute_result"
    },
    {
     "data": {
      "image/png": "[encoded data removed]",
      "text/plain": [
       "<Figure size 640x480 with 1 Axes>"
      ]
     },
     "metadata": {},
     "output_type": "display_data"
    }
   ],
   "source": [
    "plot_lim_y = [10,200]\n",
    "plot_lim_x = [0 - theta_s,179 - theta_s]\n",
    "to_plot = bf_output\n",
    "to_plot = to_plot[plot_lim_x[0]:plot_lim_x[1],plot_lim_y[0]:plot_lim_y[1]]\n",
    "to_plot = to_plot/np.max(np.reshape(to_plot,(1,-1)))\n",
    "to_plot = to_plot[:,::-1]\n",
    "plt.imshow(abs((to_plot).T), extent=[theta[plot_lim_x[0]]-np.pi/2, theta[plot_lim_x[1]]-np.pi/2,plot_lim_y[0] * 0.041763,plot_lim_y[1] * 0.041763],cmap = 'jet',  vmin=0, vmax=1.2) # this is giving the y axis in meters, and x axis in angles "
   ]
  },
  {
   "cell_type": "markdown",
   "metadata": {},
   "source": [
    "<h5> 4. Matched Filter:</h5> \n",
    "Here we will compute the matched filter output for the captured data. See the lectures for more details on the matched filter algortihm. \n",
    "The high level idea is that we calculate the round trip distance of each point in x,y,z and estimate the signal that we could receive from that point, we then correlate this estimated signal with the raw data and do this for every point in space. \n",
    "Eventually we should get a matrix holding the 2D space, with the output that corresponds to the most highly correlated scene. \n"
   ]
  },
  {
   "cell_type": "code",
   "execution_count": 12,
   "metadata": {},
   "outputs": [],
   "source": [
    "######## 1D Imaging in Cartesian #############\n",
    "def matched_filter_1d(raw_data_1d, num_x_cells, num_y_cells, x_radar_tx, x_radar_rx):\n",
    "    \"\"\"\n",
    "    Computes the 1D matched filter result for raw data, this is done along the X, Y dimensions (results in a birds eye view image).\n",
    "\n",
    "    Paramters:\n",
    "    - raw_data_1d: raw ADC data (size: num Tx * num Rx, num ADC samples)\n",
    "    - num_x_cells: discrete locations in X (horizontal) that you want to compute the power of\n",
    "    - num_y_cells: discrete locations in Y (range/depth) that you want to compute the power of\n",
    "    - x_radar_tx: positions of the transmitters \n",
    "    - x_radar_rx: positions of the receivers \n",
    "    \n",
    "    Returns:\n",
    "    - MF_output: matched filter output\n",
    "    \"\"\"\n",
    "    c = 2.9979\n",
    "    fc_start =  773.704\n",
    "    chirpSlope = 70.295e12\n",
    "    adcSampleRate = 10e6\n",
    "    As_sci = (chirpSlope/1e8)\n",
    "\n",
    "    MF_output = np.zeros((len(num_x_cells),len(num_y_cells)),dtype=complex)\n",
    "\n",
    "    for i,cell_x in enumerate(num_x_cells):\n",
    "        for j,cell_y in enumerate(num_y_cells):\n",
    "                \n",
    "                # calculate the distance from each antenna to the the point cell_x, cell_y in space\n",
    "                cell_dist = np.sqrt((x_radar_tx - cell_x)**2 + (cell_y)**2) + np.sqrt((cell_x - x_radar_rx)**2 + (cell_y)**2)\n",
    "\n",
    "                # account for range bias (because of the hardware there is some delay in the circuit which causes a ~15cm offset in what we are expecting to get)\n",
    "                cell_dist = cell_dist + 0.15 \n",
    "                temp_tau = (cell_dist)/c\n",
    "                \n",
    "                temp_sig_phase = 2.0*np.pi*fc_start*temp_tau\n",
    "                total_phase = np.repeat(temp_sig_phase,adc_samples,axis=1) + 2.0 * np.pi * As_sci * (np.arange(0,adc_samples).T / adcSampleRate) * temp_tau\n",
    "\n",
    "                # get the real and imaginary part of the signal\n",
    "                temp_real = np.cos(total_phase)\n",
    "                temp_imag = -np.sin(total_phase)\n",
    "\n",
    "                MF_output[i,j] = MF_output[i,j] + np.sum((raw_data_1d *  (temp_real + temp_imag*1j)),axis=(0,1))\n",
    "                            \n",
    "                print(\"Processed cell (%.2f,%.2f)\" % (cell_x,cell_y), end='\\r')\n",
    "    return MF_output "
   ]
  },
  {
   "cell_type": "markdown",
   "metadata": {},
   "source": [
    "For the matched filter, we don't perform the range FFT and correlate with the raw signal directly. \n",
    "We run the matched filter algorithm on a set of pixels defined by num_x_cells and num_y_cells. \n",
    "\n",
    "Then, we need to define the locations of both the transmitter and the reciever (since the round trip distance needs to be from the transmitter to the receiver, which are not located at the same position). We calculated the receiver locations same as for the beamforming antenna locations. For the transmitter location, since we only have one, we just need to match the size of the receiver, since each of the four receivers are getting the reflected signal from the same transmitter. So we have an array with 4 of the same values which correspond to the location of the transmitter relative to the first receiver. In this case there is a 5mm offset from the last receiver, and then we also need to shift the location since there are 3 additional receivers between the first receiver and the first transmitter. "
   ]
  },
  {
   "cell_type": "code",
   "execution_count": 13,
   "metadata": {},
   "outputs": [
    {
     "name": "stdout",
     "output_type": "stream",
     "text": [
      "Processed cell (0.98,5.80))\r"
     ]
    }
   ],
   "source": [
    "X = np.squeeze(raw_data[num_x_stp//2,num_z_stp//2,:,:,:]) # for matched filter we use the raw data directly!\n",
    "X = np.reshape(X,(-1,adc_samples))\n",
    "num_x_cells = np.arange(-1,1,0.02)\n",
    "num_y_cells = np.arange(4,6,0.2)\n",
    "\n",
    "x_radar_tx = np.zeros(ant_pos.shape) - 0.005 - 3 * lm / 2\n",
    "x_radar_rx = ant_pos\n",
    "\n",
    "MF_output = matched_filter_1d(X, num_x_cells, num_y_cells, x_radar_tx, x_radar_rx)"
   ]
  },
  {
   "cell_type": "markdown",
   "metadata": {},
   "source": [
    "Now we will plot the heatmap computed below. Again, we have labeled the x-axis and the y-axis as the location in meters. "
   ]
  },
  {
   "cell_type": "code",
   "execution_count": 14,
   "metadata": {},
   "outputs": [
    {
     "data": {
      "text/plain": [
       "<matplotlib.image.AxesImage at 0x7fce589c4460>"
      ]
     },
     "execution_count": 14,
     "metadata": {},
     "output_type": "execute_result"
    },
    {
     "data": {
      "image/png": "[encoded data removed]",
      "text/plain": [
       "<Figure size 640x480 with 1 Axes>"
      ]
     },
     "metadata": {},
     "output_type": "display_data"
    }
   ],
   "source": [
    "to_plot = (MF_output[::-1,::-1])**2\n",
    "plt.imshow(abs(to_plot.T), extent=[num_x_cells[0], num_x_cells[-1], num_y_cells[0], num_y_cells[-1]],cmap = 'jet') # this is giving the y axis in meters, and x axis in angles "
   ]
  },
  {
   "cell_type": "markdown",
   "metadata": {},
   "source": [
    "In this notebook, you should've gone through exercises on loading data, basic processing and plotting. In the section of this notebook you will see a more complex example of both beamforming and matched filter. Another thing you can try on your own is estimating the angle of arrival. In other words, in which direction is the reflector relative to the antennas. "
   ]
  },
  {
   "cell_type": "markdown",
   "metadata": {},
   "source": [
    "<h1> Exercises 2: More complex radar data!</h1>\n",
    "In this section, we have a more complex example of beamforming and matched filter. The majority of the complexity will be seen in the antenna position declaration, since the beamforming algorithm and the matched filter algorithm should remain the same. "
   ]
  },
  {
   "cell_type": "code",
   "execution_count": 15,
   "metadata": {},
   "outputs": [
    {
     "name": "stdout",
     "output_type": "stream",
     "text": [
      "Nothing done.\n"
     ]
    }
   ],
   "source": [
    "%reset\n",
    "import numpy as np\n",
    "import matplotlib.pyplot as plt\n",
    "import os\n",
    "import scipy\n",
    "import scipy.io as sio\n",
    "import time"
   ]
  },
  {
   "cell_type": "markdown",
   "metadata": {},
   "source": [
    "<h5> 1. Beamforming </h5>\n",
    "\n",
    "To help understand some of the ways to visualize radar data better, we have provided some processed data and some examples of Python plotting code to play around with. First we will go through the process of beamforming and show the bird eye view (BEV) heatmaps we can recover from this.\n",
    "For beamforming, it requires knowing a few details about the antenna array that captured the data. We will describe it in more detail below.\n",
    "For the rest of this section, the horizontal dimension will be defined as *x*, vertical as *z*, and depth will be defined by *y*. \n",
    "\n",
    "First, we load the data provided.\n"
   ]
  },
  {
   "cell_type": "code",
   "execution_count": 16,
   "metadata": {},
   "outputs": [],
   "source": [
    "# TODO: Put the *path* to the project folder\n",
    "home_dir = r\"/Users/shanbhag/Documents/School/comm-proj-radars\"\n",
    "\n",
    "# loading data that is given\n",
    "filename = r\"data_008\"\n",
    "data_dir = r\"given_data\"\n",
    "mat_data = sio.loadmat(os.path.join(home_dir,data_dir,filename + '.mat'))\n",
    "raw_data = mat_data['adcData']\n",
    "num_x_stp, num_z_stp, num_tx, num_rx, adc_samples = raw_data.shape\n"
   ]
  },
  {
   "cell_type": "markdown",
   "metadata": {},
   "source": [
    "Now we will describe the antenna array pattern. The data provided was taken by scanning a much smaller radar and set of antennas (same as exercise_1.ipynb) to emulate a larger antenna array. This is also known as SAR (Synthetic Aperture Radar), which you should have seen in the pre-recorded lectures.\n",
    "\n",
    "The scanning radar has 1 transmitter and 4 receivers. The receivers are spaced $\\lambda$/2 apart, and the transmitter is offset by 0.005 + $\\lambda$/2. \n",
    "The receiver antenna pattern is defined in the variable *rx_pos*. The transmitter locations are only needed in the matched filter code, which you will see more details there.\n",
    "\n",
    "Then, we scan the radar horizontally and vertically. In this portion, only the horizontal scan is used (we will aribitarily pick one vertical location and use that), and we leave the implementation of recreating the 2D image for the evaluation.\n",
    "\n",
    "The radar is moved along the x-axis 80 times, each time moving by a distance $\\lambda$, which you can see is defined by the variable *x_pos*. Finally, *ant_pos* defines the total receiver antenna scanning pattern. "
   ]
  },
  {
   "cell_type": "code",
   "execution_count": 24,
   "metadata": {},
   "outputs": [],
   "source": [
    "# define the antenna spacing\n",
    "lm = 3e8/77e9 # define lambda for the antenna spacing\n",
    "\n",
    "# this is the receiver positions\n",
    "rx_pos = np.reshape(np.arange(1,5,dtype=float),(-1,1)) * -lm / 2\n",
    "\n",
    "# this is the locations of the locations of the radar (we are moving it by lambda) \n",
    "x_pos = (np.reshape(np.arange(1,81,dtype=float),(-1,1))) * lm\n",
    "\n",
    "# antenna positions for all receivers in the entire scan. /lm so that we don't have two factors of lm when we multiply them\n",
    "ant_pos = np.reshape(np.array([rx_pos + x_pos[i] for i in range(len(x_pos))]),(-1,1))\n",
    "ant_pos = ant_pos - ant_pos[0] # make sure first location is 0\n",
    "x_pos = x_pos - x_pos[0] # make sure first location is 0"
   ]
  },
  {
   "cell_type": "code",
   "execution_count": 27,
   "metadata": {},
   "outputs": [],
   "source": [
    "# TODO: calculate the beamforming vector used to steer the beams (HINT: this should be the same as exercise_1)\n",
    "def steering_vec(theta,locs):\n",
    "    '''\n",
    "    Calculates the steering vector based on the angle given (theta) and the antenna array locations. \n",
    "    \n",
    "    Paramters: \n",
    "    - theta: angle of arrival that we are calculating the steering vector for (radians)\n",
    "    - locs: antenna locations\n",
    "\n",
    "    Returns:\n",
    "    - bf_vector: steering vector\n",
    "    '''\n",
    "\n",
    "\n",
    "    cos_theta = np.cos(theta) # angle that the signal is coming from \n",
    "    bf_vector = np.exp(1j*(2*np.pi*(locs*cos_theta)/lm))\n",
    "\n",
    "    return bf_vector"
   ]
  },
  {
   "cell_type": "markdown",
   "metadata": {},
   "source": [
    "In some cases, there is a lot of self-interference between the antennas when we scan, and it appears as a very very strong signal very close to the radar. Thus, we sometimes will pass the raw signal through a highpass filter to get rid of the strong signals at the lower frequencies. You can try with and without this highpass filter and see how it affects the images. "
   ]
  },
  {
   "cell_type": "code",
   "execution_count": 28,
   "metadata": {},
   "outputs": [],
   "source": [
    "################# Change the values based on how much of the azimuth angles you want to see and the resolution ##################\n",
    "# Define field of view in degrees that you want to process in theta \n",
    "def beamform_1d(beat_freq_data, theta_s, theta_e,theta_res,locs):\n",
    "    \"\"\"\n",
    "    Performs 1D beamforming along the azimuth (horizontal) dimension, this results in a bird eye view image.\n",
    "\n",
    "    Paramters:\n",
    "    - beat_freq_data: beat data AKA the range FFT (size: num TX * num RX, num ADC samples)\n",
    "    - theta_s: first angle that you want to start computing \n",
    "    - theta_e: last angle that you want to compute \n",
    "    - theta_res: resolution of the angles you want to compute\n",
    "    - locs: antenna locations\n",
    "\n",
    "    Returns:\n",
    "    - sph_pwr: beamformed result\n",
    "    - theta: the array of the angles computed\n",
    "    \"\"\"\n",
    "    # Convert everything to Radians \n",
    "    theta_s_r = theta_s * (np.pi/180)\n",
    "    theta_e_r = theta_e * (np.pi/180)\n",
    "    theta_res*= (np.pi/180)\n",
    "    theta_rad_lim = [theta_s_r,theta_e_r]\n",
    "\n",
    "    # Generate arrays for theta \n",
    "    theta = np.arange(theta_rad_lim[0], theta_rad_lim[1], theta_res)\n",
    "    N_theta = len(theta)\n",
    "\n",
    "    # Initialize arrays for spherical power\n",
    "    sph_pwr = np.zeros((N_theta, adc_samples), dtype=complex)\n",
    "\n",
    "    print(\"Running this many iterations: %d \" % (N_theta))\n",
    "\n",
    "    ######################## BF Calculations ###########################3\n",
    "    for kt in range(N_theta):\n",
    "        start_time = time.time()\n",
    "        Vec = steering_vec(theta[kt],locs)\n",
    "        # Vec = np.exp(1j*(2*np.pi*(locs*cos_theta)/lm))\n",
    "        VecRFI = np.squeeze(np.repeat(Vec[:, np.newaxis], adc_samples, axis=1))\n",
    "        sph_pwr[kt, :] = np.squeeze(np.sum(np.multiply(np.squeeze(beat_freq_data),VecRFI), axis=(0)))        \n",
    "        print(\"Processed angle (%.2f) took %.2f sec\" % (theta[kt]*180/np.pi, start_time - time.time()), end='\\r')\n",
    "    return sph_pwr, theta"
   ]
  },
  {
   "cell_type": "markdown",
   "metadata": {},
   "source": [
    "Take the first verical scan, and the range FFT of the raw ADC data."
   ]
  },
  {
   "cell_type": "code",
   "execution_count": 29,
   "metadata": {},
   "outputs": [],
   "source": [
    "# just look at one vertical dimension since we are not using elevation\n",
    "X = raw_data[:,0,:,:,:]\n",
    "beat_freq = scipy.fft.fft(X, axis=-1)\n",
    "beat_freq = np.reshape(beat_freq,(-1,adc_samples))"
   ]
  },
  {
   "cell_type": "markdown",
   "metadata": {},
   "source": [
    "Run the beamforming algorithm! Here we are doing theta from 70 degrees to 130 degrees."
   ]
  },
  {
   "cell_type": "code",
   "execution_count": 30,
   "metadata": {},
   "outputs": [
    {
     "name": "stdout",
     "output_type": "stream",
     "text": [
      "Running this many iterations: 61 \n",
      "Processed angle (130.00) took -0.00 sec\r"
     ]
    }
   ],
   "source": [
    "# define the azimuth angles (horizontal FOV) that we want to look at \n",
    "theta_s, theta_e = 70, 130\n",
    "theta_res = 1\n",
    "bf_output, theta = beamform_1d(beat_freq, theta_s,theta_e,theta_res,ant_pos)"
   ]
  },
  {
   "cell_type": "markdown",
   "metadata": {},
   "source": [
    "Once we've performed beamforming on this 1D array, we can plot the corresponding images. In this example below, we have plotted the birds eye view for you. You can play around with the normalization to see how different thresholds impact the final image and what reflectors you can see. "
   ]
  },
  {
   "cell_type": "code",
   "execution_count": 31,
   "metadata": {},
   "outputs": [
    {
     "data": {
      "text/plain": [
       "<matplotlib.image.AxesImage at 0x7fce28032a00>"
      ]
     },
     "execution_count": 31,
     "metadata": {},
     "output_type": "execute_result"
    },
    {
     "data": {
      "image/png": "[encoded data removed]",
      "text/plain": [
       "<Figure size 640x480 with 1 Axes>"
      ]
     },
     "metadata": {},
     "output_type": "display_data"
    }
   ],
   "source": [
    "plot_lim_y = [100,140]\n",
    "plot_lim_x = [70 - theta_s,129 - theta_s]\n",
    "to_plot = bf_output\n",
    "to_plot = to_plot[plot_lim_x[0]:plot_lim_x[1],plot_lim_y[0]:plot_lim_y[1]]\n",
    "to_plot = to_plot/np.max(np.reshape(to_plot,(1,-1))) \n",
    "to_plot = to_plot[:,::-1]**2\n",
    "plt.imshow(abs((to_plot).T), extent=[theta[plot_lim_x[0]]-np.pi/2, theta[plot_lim_x[1]]-np.pi/2,plot_lim_y[0] * 0.041763,plot_lim_y[1] * 0.041763],cmap = 'jet',  vmin=0, vmax=0.7) # this is giving the y axis in meters, and x axis in angles "
   ]
  },
  {
   "cell_type": "markdown",
   "metadata": {},
   "source": [
    "<h5> 2. Matched Filter:</h5> \n",
    "Here we will compute the matched filter output but for a more complex antenna pattern. If you take a look at this function and the one in exercise_1.ipynb it should be virtually the same. "
   ]
  },
  {
   "cell_type": "code",
   "execution_count": 32,
   "metadata": {},
   "outputs": [],
   "source": [
    "######## 1D Imaging in Cartesian #############\n",
    "def matched_filter_1d(raw_data_1d, num_x_cells, num_y_cells, x_radar_tx, x_radar_rx):\n",
    "    \"\"\"\n",
    "    Computes the 1D matched filter result for raw data, this is done along the X, Y dimensions (results in a birds eye view image).\n",
    "\n",
    "    Paramters:\n",
    "    - raw_data_1d: raw ADC data (size: num Tx * num Rx, num ADC samples)\n",
    "    - num_x_cells: discrete locations in X (horizontal) that you want to compute the power of\n",
    "    - num_y_cells: discrete locations in Y (range/depth) that you want to compute the power of\n",
    "    - x_radar_tx: positions of the transmitters \n",
    "    - x_radar_rx: positions of the receivers \n",
    "\n",
    "    Returns:\n",
    "    - MF_output: matched filter output\n",
    "    \"\"\"\n",
    "    c = 2.9979\n",
    "    fc_start =  773.704\n",
    "    chirpSlope = 70.295e12\n",
    "    adcSampleRate = 10e6\n",
    "    As_sci = (chirpSlope/1e8)\n",
    "\n",
    "    MF_output = np.zeros((len(num_x_cells),len(num_y_cells)),dtype=complex)\n",
    "\n",
    "    for i,cell_x in enumerate(num_x_cells):\n",
    "        for j,cell_y in enumerate(num_y_cells):\n",
    "                start_time = time.time()\n",
    "\n",
    "                cell_dist = np.sqrt((x_radar_tx - cell_x)**2 + (cell_y)**2) + np.sqrt((cell_x - x_radar_rx)**2 + (cell_y)**2)                \n",
    "                cell_dist = cell_dist + 0.15 # account for range bias\n",
    "                temp_tau = (cell_dist)/c\n",
    "                \n",
    "                temp_sig_phase = 2.0*np.pi*fc_start*temp_tau\n",
    "                total_phase = np.repeat(temp_sig_phase,adc_samples,axis=1) + 2.0 * np.pi * As_sci * (np.arange(0,adc_samples).T / adcSampleRate) * temp_tau\n",
    "                temp_real = np.cos(total_phase)\n",
    "                temp_imag = -np.sin(total_phase)\n",
    "                MF_output[i,j] = MF_output[i,j] + np.sum((raw_data_1d *  (temp_real + temp_imag*1j)),axis=(0,1))\n",
    "                            \n",
    "                print(\"Processed cell (%.2f,%.2f) took %.2f sec\" % (cell_x,cell_y, start_time - time.time()), end='\\r')\n",
    "    return MF_output "
   ]
  },
  {
   "cell_type": "markdown",
   "metadata": {},
   "source": [
    "Now we will reshape the raw data and create the cartesian coordinates that we will calculate outputs for. \n",
    "Again because this is a 1D matched fitler implementation, we will take a sample from the center of the 2D aperture. *num_x_cells* denotes the x coordinates that we will compute correlations for, and *num_y_cells* will denote the y coordinates that we compute correlations for. \n",
    "\n",
    "We also will define the antenna positions for the transmitter and the receivers. Again, to match the dimensions of the receivers when doing matrix addition, we create an array of the transmitter locations where every 4 spots will be the same location so as to match the number of receivers when calculating round trip distance. The transmitter location moves by $\\lambda$/2 each time (which is just the *x_pos* array), and we repeat that 4 times for the 4 receivers. We then also have the shift the transmitter location by (0.005 + 3 $\\lambda$/2). \n",
    "\n",
    "The receiver locations are just defined as *ant_pos*."
   ]
  },
  {
   "cell_type": "code",
   "execution_count": 33,
   "metadata": {},
   "outputs": [
    {
     "name": "stdout",
     "output_type": "stream",
     "text": [
      "Processed cell (1.50,6.75) took -0.00 secc\r"
     ]
    }
   ],
   "source": [
    "X = np.squeeze(raw_data[:,0,:,:,:]) # for matched filter we use the raw data directly!\n",
    "X = np.reshape(X,(-1,adc_samples))\n",
    "\n",
    "num_x_cells = np.arange(-1.5,1.5+0.025,0.05)\n",
    "num_y_cells = np.arange(4.2,6.8,0.05)\n",
    "\n",
    "x_radar_tx = np.reshape(np.repeat(x_pos,4),(-1,1)) - 0.005 - 3 * lm / 2\n",
    "x_radar_rx = ant_pos\n",
    "\n",
    "# print(x_pos)\n",
    "MF_output = matched_filter_1d(X, num_x_cells, num_y_cells, x_radar_tx, x_radar_rx)"
   ]
  },
  {
   "cell_type": "markdown",
   "metadata": {},
   "source": [
    "Now we will plot the heatmap computed below."
   ]
  },
  {
   "cell_type": "code",
   "execution_count": 34,
   "metadata": {},
   "outputs": [
    {
     "data": {
      "text/plain": [
       "<matplotlib.image.AxesImage at 0x7fce280309a0>"
      ]
     },
     "execution_count": 34,
     "metadata": {},
     "output_type": "execute_result"
    },
    {
     "data": {
      "image/png": "[encoded data removed]",
      "text/plain": [
       "<Figure size 640x480 with 1 Axes>"
      ]
     },
     "metadata": {},
     "output_type": "display_data"
    }
   ],
   "source": [
    "to_plot = MF_output\n",
    "to_plot = to_plot/np.max(np.reshape(to_plot,(1,-1)))\n",
    "to_plot = to_plot[:,:]**2\n",
    "plt.imshow(abs((to_plot).T), extent=[num_x_cells[0], num_x_cells[-1], num_y_cells[0], num_y_cells[-1]],cmap = 'jet',  vmin=0, vmax=0.3) # this is giving the y axis in meters, and x axis in angles "
   ]
  },
  {
   "cell_type": "markdown",
   "metadata": {},
   "source": [
    "Now you should've seen two examples of doing 1D beamforming and matched filter. In these cases, we are assuming the antenna array is one dimensional, so the antennas only have differing x-positions and the same z-positions. In the next notebook, we will be evaluating your code. In that case you will extend the 1D beamforming and matched filter to 2D. This means in these examples we will use the fully scanned locations, and this will mean you need to take into account the z-positions as well!"
   ]
  },
  {
   "cell_type": "markdown",
   "metadata": {},
   "source": []
  }
 ],
 "metadata": {
  "kernelspec": {
   "display_name": "Python 3 (ipykernel)",
   "language": "python",
   "name": "python3"
  },
  "language_info": {
   "codemirror_mode": {
    "name": "ipython",
    "version": 3
   },
   "file_extension": ".py",
   "mimetype": "text/x-python",
   "name": "python",
   "nbconvert_exporter": "python",
   "pygments_lexer": "ipython3",
   "version": "3.8.18"
  }
 },
 "nbformat": 4,
 "nbformat_minor": 4
}
