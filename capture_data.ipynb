{
 "cells": [
  {
   "cell_type": "code",
   "execution_count": 2,
   "metadata": {
    "tags": []
   },
   "outputs": [
    {
     "ename": "RuntimeError",
     "evalue": "Failed to create a default .NET runtime, which would\n                    have been \"mono\" on this system. Either install a\n                    compatible runtime or configure it explicitly via\n                    `set_runtime` or the `PYTHONNET_*` environment variables\n                    (see set_runtime_from_env).",
     "output_type": "error",
     "traceback": [
      "\u001b[0;31m---------------------------------------------------------------------------\u001b[0m",
      "\u001b[0;31mOSError\u001b[0m                                   Traceback (most recent call last)",
      "File \u001b[0;32m~/anaconda3/envs/demo/lib/python3.10/site-packages/pythonnet/__init__.py:75\u001b[0m, in \u001b[0;36m_create_runtime_from_spec\u001b[0;34m(spec, params)\u001b[0m\n\u001b[1;32m     74\u001b[0m \u001b[39melif\u001b[39;00m spec \u001b[39m==\u001b[39m \u001b[39m\"\u001b[39m\u001b[39mmono\u001b[39m\u001b[39m\"\u001b[39m:\n\u001b[0;32m---> 75\u001b[0m     \u001b[39mreturn\u001b[39;00m clr_loader\u001b[39m.\u001b[39;49mget_mono(\u001b[39m*\u001b[39;49m\u001b[39m*\u001b[39;49mparams)\n\u001b[1;32m     76\u001b[0m \u001b[39melif\u001b[39;00m spec \u001b[39m==\u001b[39m \u001b[39m\"\u001b[39m\u001b[39mcoreclr\u001b[39m\u001b[39m\"\u001b[39m:\n",
      "File \u001b[0;32m~/anaconda3/envs/demo/lib/python3.10/site-packages/clr_loader/__init__.py:75\u001b[0m, in \u001b[0;36mget_mono\u001b[0;34m(config_file, global_config_file, libmono, sgen, debug, jit_options, assembly_dir, config_dir, set_signal_chaining)\u001b[0m\n\u001b[1;32m     73\u001b[0m     libmono \u001b[39m=\u001b[39m find_libmono(sgen\u001b[39m=\u001b[39msgen)\n\u001b[0;32m---> 75\u001b[0m impl \u001b[39m=\u001b[39m Mono(\n\u001b[1;32m     76\u001b[0m     \u001b[39m# domain=domain,\u001b[39;49;00m\n\u001b[1;32m     77\u001b[0m     debug\u001b[39m=\u001b[39;49mdebug,\n\u001b[1;32m     78\u001b[0m     jit_options\u001b[39m=\u001b[39;49mjit_options,\n\u001b[1;32m     79\u001b[0m     config_file\u001b[39m=\u001b[39;49m_maybe_path(config_file),\n\u001b[1;32m     80\u001b[0m     global_config_file\u001b[39m=\u001b[39;49m_maybe_path(global_config_file),\n\u001b[1;32m     81\u001b[0m     libmono\u001b[39m=\u001b[39;49mlibmono,\n\u001b[1;32m     82\u001b[0m     assembly_dir\u001b[39m=\u001b[39;49massembly_dir,\n\u001b[1;32m     83\u001b[0m     config_dir\u001b[39m=\u001b[39;49mconfig_dir,\n\u001b[1;32m     84\u001b[0m     set_signal_chaining\u001b[39m=\u001b[39;49mset_signal_chaining,\n\u001b[1;32m     85\u001b[0m )\n\u001b[1;32m     86\u001b[0m \u001b[39mreturn\u001b[39;00m impl\n",
      "File \u001b[0;32m~/anaconda3/envs/demo/lib/python3.10/site-packages/clr_loader/mono.py:33\u001b[0m, in \u001b[0;36mMono.__init__\u001b[0;34m(self, libmono, domain, debug, jit_options, config_file, global_config_file, assembly_dir, config_dir, set_signal_chaining)\u001b[0m\n\u001b[1;32m     31\u001b[0m \u001b[39mself\u001b[39m\u001b[39m.\u001b[39m_assemblies: Dict[Path, Any] \u001b[39m=\u001b[39m {}\n\u001b[0;32m---> 33\u001b[0m \u001b[39mself\u001b[39m\u001b[39m.\u001b[39m_version \u001b[39m=\u001b[39m initialize(\n\u001b[1;32m     34\u001b[0m     config_file\u001b[39m=\u001b[39;49moptional_path_as_string(config_file),\n\u001b[1;32m     35\u001b[0m     debug\u001b[39m=\u001b[39;49mdebug,\n\u001b[1;32m     36\u001b[0m     jit_options\u001b[39m=\u001b[39;49mjit_options,\n\u001b[1;32m     37\u001b[0m     global_config_file\u001b[39m=\u001b[39;49moptional_path_as_string(global_config_file),\n\u001b[1;32m     38\u001b[0m     libmono\u001b[39m=\u001b[39;49mlibmono,\n\u001b[1;32m     39\u001b[0m     assembly_dir\u001b[39m=\u001b[39;49massembly_dir,\n\u001b[1;32m     40\u001b[0m     config_dir\u001b[39m=\u001b[39;49mconfig_dir,\n\u001b[1;32m     41\u001b[0m     set_signal_chaining\u001b[39m=\u001b[39;49mset_signal_chaining,\n\u001b[1;32m     42\u001b[0m )\n\u001b[1;32m     44\u001b[0m \u001b[39mif\u001b[39;00m domain \u001b[39mis\u001b[39;00m \u001b[39mNone\u001b[39;00m:\n",
      "File \u001b[0;32m~/anaconda3/envs/demo/lib/python3.10/site-packages/clr_loader/mono.py:136\u001b[0m, in \u001b[0;36minitialize\u001b[0;34m(libmono, debug, jit_options, config_file, global_config_file, assembly_dir, config_dir, set_signal_chaining)\u001b[0m\n\u001b[1;32m    135\u001b[0m \u001b[39mif\u001b[39;00m _MONO \u001b[39mis\u001b[39;00m \u001b[39mNone\u001b[39;00m:\n\u001b[0;32m--> 136\u001b[0m     _MONO \u001b[39m=\u001b[39m load_mono(libmono)\n\u001b[1;32m    138\u001b[0m     \u001b[39mif\u001b[39;00m assembly_dir \u001b[39mis\u001b[39;00m \u001b[39mnot\u001b[39;00m \u001b[39mNone\u001b[39;00m \u001b[39mand\u001b[39;00m config_dir \u001b[39mis\u001b[39;00m \u001b[39mnot\u001b[39;00m \u001b[39mNone\u001b[39;00m:\n",
      "File \u001b[0;32m~/anaconda3/envs/demo/lib/python3.10/site-packages/clr_loader/ffi/__init__.py:46\u001b[0m, in \u001b[0;36mload_mono\u001b[0;34m(path)\u001b[0m\n\u001b[1;32m     45\u001b[0m path_str \u001b[39m=\u001b[39m \u001b[39mstr\u001b[39m(path) \u001b[39mif\u001b[39;00m path \u001b[39melse\u001b[39;00m \u001b[39mNone\u001b[39;00m\n\u001b[0;32m---> 46\u001b[0m \u001b[39mreturn\u001b[39;00m ffi\u001b[39m.\u001b[39;49mdlopen(path_str, ffi\u001b[39m.\u001b[39;49mRTLD_GLOBAL)\n",
      "File \u001b[0;32m~/anaconda3/envs/demo/lib/python3.10/site-packages/cffi/api.py:150\u001b[0m, in \u001b[0;36mFFI.dlopen\u001b[0;34m(self, name, flags)\u001b[0m\n\u001b[1;32m    149\u001b[0m \u001b[39mwith\u001b[39;00m \u001b[39mself\u001b[39m\u001b[39m.\u001b[39m_lock:\n\u001b[0;32m--> 150\u001b[0m     lib, function_cache \u001b[39m=\u001b[39m _make_ffi_library(\u001b[39mself\u001b[39;49m, name, flags)\n\u001b[1;32m    151\u001b[0m     \u001b[39mself\u001b[39m\u001b[39m.\u001b[39m_function_caches\u001b[39m.\u001b[39mappend(function_cache)\n",
      "File \u001b[0;32m~/anaconda3/envs/demo/lib/python3.10/site-packages/cffi/api.py:832\u001b[0m, in \u001b[0;36m_make_ffi_library\u001b[0;34m(ffi, libname, flags)\u001b[0m\n\u001b[1;32m    831\u001b[0m backend \u001b[39m=\u001b[39m ffi\u001b[39m.\u001b[39m_backend\n\u001b[0;32m--> 832\u001b[0m backendlib \u001b[39m=\u001b[39m _load_backend_lib(backend, libname, flags)\n\u001b[1;32m    833\u001b[0m \u001b[39m#\u001b[39;00m\n",
      "File \u001b[0;32m~/anaconda3/envs/demo/lib/python3.10/site-packages/cffi/api.py:827\u001b[0m, in \u001b[0;36m_load_backend_lib\u001b[0;34m(backend, name, flags)\u001b[0m\n\u001b[1;32m    826\u001b[0m         msg \u001b[39m=\u001b[39m \u001b[39m\"\u001b[39m\u001b[39m%s\u001b[39;00m\u001b[39m.  Additionally, \u001b[39m\u001b[39m%s\u001b[39;00m\u001b[39m\"\u001b[39m \u001b[39m%\u001b[39m (first_error, msg)\n\u001b[0;32m--> 827\u001b[0m     \u001b[39mraise\u001b[39;00m \u001b[39mOSError\u001b[39;00m(msg)\n\u001b[1;32m    828\u001b[0m \u001b[39mreturn\u001b[39;00m backend\u001b[39m.\u001b[39mload_library(path, flags)\n",
      "\u001b[0;31mOSError\u001b[0m: cannot load library '/Library/Frameworks/Mono.framework/Versions/Current/lib/libmonosgen-2.0.dylib': dlopen(/Library/Frameworks/Mono.framework/Versions/Current/lib/libmonosgen-2.0.dylib, 0x000A): tried: '/Library/Frameworks/Mono.framework/Versions/Current/lib/libmonosgen-2.0.dylib' (no such file).  Additionally, ctypes.util.find_library() did not manage to locate a library called '/Library/Frameworks/Mono.framework/Versions/Current/lib/libmonosgen-2.0.dylib'",
      "\nThe above exception was the direct cause of the following exception:\n",
      "\u001b[0;31mRuntimeError\u001b[0m                              Traceback (most recent call last)",
      "\u001b[1;32m/Users/shanbhag/Documents/School/comm-proj-radars/capture_data.ipynb Cell 1\u001b[0m line \u001b[0;36m2\n\u001b[1;32m      <a href='vscode-notebook-cell:/Users/shanbhag/Documents/School/comm-proj-radars/capture_data.ipynb#X10sZmlsZQ%3D%3D?line=0'>1</a>\u001b[0m \u001b[39mimport\u001b[39;00m \u001b[39mos\u001b[39;00m\n\u001b[0;32m----> <a href='vscode-notebook-cell:/Users/shanbhag/Documents/School/comm-proj-radars/capture_data.ipynb#X10sZmlsZQ%3D%3D?line=1'>2</a>\u001b[0m \u001b[39mfrom\u001b[39;00m \u001b[39mstreaming\u001b[39;00m\u001b[39m.\u001b[39;00m\u001b[39mradar\u001b[39;00m \u001b[39mimport\u001b[39;00m radar\n",
      "File \u001b[0;32m~/Documents/School/comm-proj-radars/streaming/radar.py:4\u001b[0m\n\u001b[1;32m      1\u001b[0m \u001b[39mimport\u001b[39;00m \u001b[39mtime\u001b[39;00m\n\u001b[1;32m      3\u001b[0m \u001b[39mimport\u001b[39;00m \u001b[39mos\u001b[39;00m\n\u001b[0;32m----> 4\u001b[0m \u001b[39mimport\u001b[39;00m \u001b[39mclr\u001b[39;00m\n\u001b[1;32m      6\u001b[0m \u001b[39m# helper functions\u001b[39;00m\n\u001b[1;32m      7\u001b[0m \u001b[39mdef\u001b[39;00m \u001b[39mreplace_filename\u001b[39m(lua_file, exp_name, exp_path):\n",
      "File \u001b[0;32m~/anaconda3/envs/demo/lib/python3.10/site-packages/clr.py:6\u001b[0m\n\u001b[1;32m      1\u001b[0m \u001b[39m\"\"\"\u001b[39;00m\n\u001b[1;32m      2\u001b[0m \u001b[39mLegacy Python.NET loader for backwards compatibility\u001b[39;00m\n\u001b[1;32m      3\u001b[0m \u001b[39m\"\"\"\u001b[39;00m\n\u001b[1;32m      5\u001b[0m \u001b[39mfrom\u001b[39;00m \u001b[39mpythonnet\u001b[39;00m \u001b[39mimport\u001b[39;00m load\n\u001b[0;32m----> 6\u001b[0m load()\n",
      "File \u001b[0;32m~/anaconda3/envs/demo/lib/python3.10/site-packages/pythonnet/__init__.py:131\u001b[0m, in \u001b[0;36mload\u001b[0;34m(runtime, **params)\u001b[0m\n\u001b[1;32m    129\u001b[0m \u001b[39mif\u001b[39;00m _RUNTIME \u001b[39mis\u001b[39;00m \u001b[39mNone\u001b[39;00m:\n\u001b[1;32m    130\u001b[0m     \u001b[39mif\u001b[39;00m runtime \u001b[39mis\u001b[39;00m \u001b[39mNone\u001b[39;00m:\n\u001b[0;32m--> 131\u001b[0m         set_runtime_from_env()\n\u001b[1;32m    132\u001b[0m     \u001b[39melse\u001b[39;00m:\n\u001b[1;32m    133\u001b[0m         set_runtime(runtime, \u001b[39m*\u001b[39m\u001b[39m*\u001b[39mparams)\n",
      "File \u001b[0;32m~/anaconda3/envs/demo/lib/python3.10/site-packages/pythonnet/__init__.py:114\u001b[0m, in \u001b[0;36mset_runtime_from_env\u001b[0;34m()\u001b[0m\n\u001b[1;32m    111\u001b[0m \u001b[39mfrom\u001b[39;00m \u001b[39mos\u001b[39;00m \u001b[39mimport\u001b[39;00m environ\n\u001b[1;32m    113\u001b[0m spec \u001b[39m=\u001b[39m environ\u001b[39m.\u001b[39mget(\u001b[39m\"\u001b[39m\u001b[39mPYTHONNET_RUNTIME\u001b[39m\u001b[39m\"\u001b[39m, \u001b[39m\"\u001b[39m\u001b[39mdefault\u001b[39m\u001b[39m\"\u001b[39m)\n\u001b[0;32m--> 114\u001b[0m runtime \u001b[39m=\u001b[39m _create_runtime_from_spec(spec)\n\u001b[1;32m    115\u001b[0m set_runtime(runtime)\n",
      "File \u001b[0;32m~/anaconda3/envs/demo/lib/python3.10/site-packages/pythonnet/__init__.py:82\u001b[0m, in \u001b[0;36m_create_runtime_from_spec\u001b[0;34m(spec, params)\u001b[0m\n\u001b[1;32m     80\u001b[0m \u001b[39mexcept\u001b[39;00m \u001b[39mException\u001b[39;00m \u001b[39mas\u001b[39;00m exc:\n\u001b[1;32m     81\u001b[0m     \u001b[39mif\u001b[39;00m was_default:\n\u001b[0;32m---> 82\u001b[0m         \u001b[39mraise\u001b[39;00m \u001b[39mRuntimeError\u001b[39;00m(\n\u001b[1;32m     83\u001b[0m             \u001b[39mf\u001b[39m\u001b[39m\"\"\"\u001b[39m\u001b[39mFailed to create a default .NET runtime, which would\u001b[39m\n\u001b[1;32m     84\u001b[0m \u001b[39m                have been \u001b[39m\u001b[39m\"\u001b[39m\u001b[39m{\u001b[39;00mspec\u001b[39m}\u001b[39;00m\u001b[39m\"\u001b[39m\u001b[39m on this system. Either install a\u001b[39m\n\u001b[1;32m     85\u001b[0m \u001b[39m                compatible runtime or configure it explicitly via\u001b[39m\n\u001b[1;32m     86\u001b[0m \u001b[39m                `set_runtime` or the `PYTHONNET_*` environment variables\u001b[39m\n\u001b[1;32m     87\u001b[0m \u001b[39m                (see set_runtime_from_env).\u001b[39m\u001b[39m\"\"\"\u001b[39m\n\u001b[1;32m     88\u001b[0m         ) \u001b[39mfrom\u001b[39;00m \u001b[39mexc\u001b[39;00m\n\u001b[1;32m     89\u001b[0m     \u001b[39melse\u001b[39;00m:\n\u001b[1;32m     90\u001b[0m         \u001b[39mraise\u001b[39;00m \u001b[39mRuntimeError\u001b[39;00m(\n\u001b[1;32m     91\u001b[0m             \u001b[39mf\u001b[39m\u001b[39m\"\"\"\u001b[39m\u001b[39mFailed to create a .NET runtime (\u001b[39m\u001b[39m{\u001b[39;00mspec\u001b[39m}\u001b[39;00m\u001b[39m) using the\u001b[39m\n\u001b[1;32m     92\u001b[0m \u001b[39m            parameters \u001b[39m\u001b[39m{\u001b[39;00mparams\u001b[39m}\u001b[39;00m\u001b[39m.\u001b[39m\u001b[39m\"\"\"\u001b[39m\n\u001b[1;32m     93\u001b[0m         ) \u001b[39mfrom\u001b[39;00m \u001b[39mexc\u001b[39;00m\n",
      "\u001b[0;31mRuntimeError\u001b[0m: Failed to create a default .NET runtime, which would\n                    have been \"mono\" on this system. Either install a\n                    compatible runtime or configure it explicitly via\n                    `set_runtime` or the `PYTHONNET_*` environment variables\n                    (see set_runtime_from_env)."
     ]
    }
   ],
   "source": [
    "import os\n",
    "from streaming.radar import radar"
   ]
  },
  {
   "cell_type": "code",
   "execution_count": 9,
   "metadata": {},
   "outputs": [
    {
     "name": "stdout",
     "output_type": "stream",
     "text": [
      "Sending test message to RSTD\n",
      "Test message success\n"
     ]
    }
   ],
   "source": [
    "rtt_path = r'C:\\ti\\mmwave_studio_02_01_01_00\\mmWaveStudio\\Clients\\RtttNetClientController\\RtttNetClientAPI.dll'\n",
    "# create folders for saving data\n",
    "home_dir = r'C:\\Users\\robin\\Documents\\EPFL\\BA5\\Comm_project\\comm-proj-radar' # home directory path (of the project folder, full path)\n",
    "exp_path = os.path.join(home_dir, r'record') # put the folder you want to save data to (full path)\n",
    "exp_name = r'2' # name of the file you want to save (no .bin)\n",
    "config_lua_script = r'scripts/1843_config.lua' # relative path to the lua scripts for configuration assuming it in is the home dir(ex. scripts/1843_config.lua)\n",
    "record_lua_script = r'scripts/1843_record.lua' # relative path to the lua scripts for recording it in is the home dir(ex. scripts/1843_record.lua)\n",
    "\n",
    "# initialize the radar class, this runs .lua scripts from mmWaveStudio and captures data\n",
    "radar1 = radar(home_dir, rtt_path,config_lua_script)"
   ]
  },
  {
   "cell_type": "code",
   "execution_count": 15,
   "metadata": {
    "tags": []
   },
   "outputs": [
    {
     "name": "stdout",
     "output_type": "stream",
     "text": [
      "Radar configurated!\n"
     ]
    }
   ],
   "source": [
    "radar1.mmwave_config(config_lua_script)"
   ]
  },
  {
   "cell_type": "code",
   "execution_count": 16,
   "metadata": {},
   "outputs": [
    {
     "name": "stdout",
     "output_type": "stream",
     "text": [
      "C:\\\\\\\\Users\\\\\\\\robin\\\\\\\\Documents\\\\\\\\EPFL\\\\\\\\BA5\\\\\\\\Comm_project\\\\\\\\comm-proj-radar\\\\\\\\record\\\\\\\\\n",
      "Frame collected!\n"
     ]
    }
   ],
   "source": [
    "# check to see if you've already captured data with the same experiment name, if so, maybe you don't want to overwrite it\n",
    "if os.path.isfile((os.path.join(exp_path, r\"%s.bin\" % exp_name))):\n",
    "    print(\"You have files created already so you might overwrite data!\")\n",
    "else:\n",
    "    if not os.path.isdir(exp_path):\n",
    "        os.mkdir(exp_path)\n",
    "\n",
    "    # capture data and process it\n",
    "    radar1.mmwave_capture(exp_name, exp_path,record_lua_script)"
   ]
  },
  {
   "cell_type": "code",
   "execution_count": null,
   "metadata": {},
   "outputs": [],
   "source": []
  },
  {
   "cell_type": "code",
   "execution_count": null,
   "metadata": {},
   "outputs": [],
   "source": []
  },
  {
   "cell_type": "code",
   "execution_count": null,
   "metadata": {},
   "outputs": [],
   "source": []
  },
  {
   "cell_type": "code",
   "execution_count": null,
   "metadata": {},
   "outputs": [],
   "source": []
  }
 ],
 "metadata": {
  "kernelspec": {
   "display_name": "Python 3 (ipykernel)",
   "language": "python",
   "name": "python3"
  },
  "language_info": {
   "codemirror_mode": {
    "name": "ipython",
    "version": 3
   },
   "file_extension": ".py",
   "mimetype": "text/x-python",
   "name": "python",
   "nbconvert_exporter": "python",
   "pygments_lexer": "ipython3",
   "version": "3.10.10"
  }
 },
 "nbformat": 4,
 "nbformat_minor": 4
}
